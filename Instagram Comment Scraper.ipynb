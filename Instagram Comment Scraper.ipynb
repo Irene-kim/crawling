{
 "cells": [
  {
   "cell_type": "code",
   "execution_count": 1,
   "metadata": {},
   "outputs": [],
   "source": [
    "import pandas as pd\n",
    "import csv\n",
    "import json\n",
    "from urllib.request import urlopen\n",
    "from urllib.parse import quote_plus\n",
    "from bs4 import BeautifulSoup\n",
    "from selenium import webdriver\n",
    "import time\n",
    "import re\n",
    "import os"
   ]
  },
  {
   "cell_type": "code",
   "execution_count": 21,
   "metadata": {},
   "outputs": [
    {
     "data": {
      "text/plain": [
       "'/Users/irenekim/Desktop/Personal/Crawling'"
      ]
     },
     "execution_count": 21,
     "metadata": {},
     "output_type": "execute_result"
    }
   ],
   "source": [
    "os.getcwd()"
   ]
  },
  {
   "cell_type": "code",
   "execution_count": 2,
   "metadata": {},
   "outputs": [],
   "source": [
    "driver = webdriver.Chrome('/Users/irenekim/Desktop/Personal/Crawling/chromedriver')"
   ]
  },
  {
   "cell_type": "code",
   "execution_count": 3,
   "metadata": {},
   "outputs": [],
   "source": [
    "url = \"https://www.instagram.com/p/CQWQDCOgSt9/\""
   ]
  },
  {
   "cell_type": "code",
   "execution_count": 4,
   "metadata": {},
   "outputs": [],
   "source": [
    "driver.get(url)"
   ]
  },
  {
   "cell_type": "code",
   "execution_count": 18,
   "metadata": {},
   "outputs": [],
   "source": [
    "comments =[]"
   ]
  },
  {
   "cell_type": "code",
   "execution_count": 6,
   "metadata": {},
   "outputs": [],
   "source": [
    "hasLoadMore = True\n",
    "while hasLoadMore:\n",
    "    time.sleep(1)\n",
    "    try:\n",
    "        if driver.find_element_by_css_selector('#react-root > section > main > div > div > article > div.eo2As > div.EtaWk > ul > li > div > button > span'):\n",
    "            driver.find_element_by_css_selector('#react-root > section > main > div > div > article > div.eo2As > div.EtaWk > ul > li > div > button > span').click()\n",
    "    except:\n",
    "        hasLoadMore = False"
   ]
  },
  {
   "cell_type": "code",
   "execution_count": 19,
   "metadata": {},
   "outputs": [
    {
     "name": "stdout",
     "output_type": "stream",
     "text": [
      "User  dailydoseoftranquili_tea\n",
      "Text  hola\n",
      "\n",
      "User  lourdesvelezestrella\n",
      "Text  🥰\n",
      "\n",
      "User  aguirrekalaa\n",
      "Text  This post is everything ❤️\n",
      "\n",
      "User  natalie6711\n",
      "Text  Kids r adorable\n",
      "\n",
      "User  marilynmurph101\n",
      "Text  Your the only one posted about rob your my favorite and I know your dad is proud of you ❤️\n",
      "\n",
      "User  angeladancingqueen\n",
      "Text  Holiss\n",
      "\n",
      "User  sarahmar_sm\n",
      "Text  https://www.paypal.me/valennn23\n",
      "\n",
      "User  pu74_qu3_of3rt0n\n",
      "Text  ❤️❤️\n",
      "\n",
      "User  ero_curves_girls\n",
      "Text  ❤️👏🙏\n",
      "\n",
      "User  jsee09\n",
      "Text  @tunisia_bikewander 🚴🚴👏\n",
      "Bienvenu 🤗\n",
      "\n",
      "User  tunisia_bikewander\n",
      "Text  @tunisia_bikewander 🚴🚴👏\n",
      "Bienvenu 🤗\n",
      "\n",
      "User  tunisia_bikewander\n",
      "Text  Nice tribute\n",
      "\n",
      "User  kimbean582\n",
      "Text  Bou wala miboun w rajlek be3thek tnayek chneyaaa amazing chtahchi fih aaa kim\n",
      "\n",
      "User  dali_hssan\n",
      "Text  😍😍😍😍😍🔥👏👏👏❤️❤️\n",
      "\n",
      "User  mariaacardoso23\n",
      "Text  Felicidades bendiciones\n",
      "\n",
      "User  marbytobonc\n",
      "Text  Gemeyyyy *bapak2nyaa 😁\n",
      "\n",
      "User  anggaysti\n",
      "Text  Vgobidio\n",
      "\n",
      "User  yarzoon\n",
      "Text  😢😢😢\n",
      "\n",
      "User  catalina_722\n",
      "Text  Followtrick\n",
      "\n",
      "User  its_lola.ish\n",
      "Text  What a sweet post Kim ❤️\n",
      "\n",
      "User  tdolllxo\n",
      "Text  Chi is such a doll 🥰\n",
      "\n",
      "User  itznikkibaby\n",
      "Text  🙌 I love this 😍\n",
      "\n",
      "User  denisamuska\n",
      "Text  Fatherhood ❤️\n",
      "\n"
     ]
    },
    {
     "ename": "IndexError",
     "evalue": "list index out of range",
     "output_type": "error",
     "traceback": [
      "\u001b[0;31m---------------------------------------------------------------------------\u001b[0m",
      "\u001b[0;31mIndexError\u001b[0m                                Traceback (most recent call last)",
      "\u001b[0;32m<ipython-input-19-a313930c8ad0>\u001b[0m in \u001b[0;36m<module>\u001b[0;34m\u001b[0m\n\u001b[1;32m     20\u001b[0m \u001b[0;32mfor\u001b[0m \u001b[0mi\u001b[0m \u001b[0;32min\u001b[0m \u001b[0mrange\u001b[0m\u001b[0;34m(\u001b[0m\u001b[0;36m1\u001b[0m\u001b[0;34m,\u001b[0m \u001b[0mcomments_count\u001b[0m\u001b[0;34m)\u001b[0m\u001b[0;34m:\u001b[0m\u001b[0;34m\u001b[0m\u001b[0;34m\u001b[0m\u001b[0m\n\u001b[1;32m     21\u001b[0m     \u001b[0muser\u001b[0m \u001b[0;34m=\u001b[0m \u001b[0musers_list\u001b[0m\u001b[0;34m[\u001b[0m\u001b[0mi\u001b[0m\u001b[0;34m]\u001b[0m\u001b[0;34m\u001b[0m\u001b[0;34m\u001b[0m\u001b[0m\n\u001b[0;32m---> 22\u001b[0;31m     \u001b[0mtext\u001b[0m \u001b[0;34m=\u001b[0m \u001b[0mtexts_list\u001b[0m\u001b[0;34m[\u001b[0m\u001b[0mi\u001b[0m\u001b[0;34m]\u001b[0m\u001b[0;34m\u001b[0m\u001b[0;34m\u001b[0m\u001b[0m\n\u001b[0m\u001b[1;32m     23\u001b[0m     \u001b[0mcomments\u001b[0m\u001b[0;34m.\u001b[0m\u001b[0mappend\u001b[0m\u001b[0;34m(\u001b[0m\u001b[0musers_list\u001b[0m\u001b[0;34m[\u001b[0m\u001b[0mi\u001b[0m\u001b[0;34m]\u001b[0m\u001b[0;34m)\u001b[0m\u001b[0;34m\u001b[0m\u001b[0;34m\u001b[0m\u001b[0m\n\u001b[1;32m     24\u001b[0m     \u001b[0mcomments\u001b[0m\u001b[0;34m.\u001b[0m\u001b[0mappend\u001b[0m\u001b[0;34m(\u001b[0m\u001b[0mtexts_list\u001b[0m\u001b[0;34m[\u001b[0m\u001b[0mi\u001b[0m\u001b[0;34m]\u001b[0m\u001b[0;34m)\u001b[0m\u001b[0;34m\u001b[0m\u001b[0;34m\u001b[0m\u001b[0m\n",
      "\u001b[0;31mIndexError\u001b[0m: list index out of range"
     ]
    }
   ],
   "source": [
    "users_list = []\n",
    "users = driver.find_elements_by_class_name('_6lAjh')\n",
    "\n",
    "for user in users:\n",
    "    users_list.append(user.text)\n",
    "    \n",
    "i = 0\n",
    "texts_list = []\n",
    "#texts = driver.find_elements_by_class_name('C4VMK')\n",
    "texts = driver.find_elements_by_css_selector('#react-root > section > main > div > div > article > div.eo2As > div.EtaWk > ul > ul > div > li > div > div > div.C4VMK > span')\n",
    "for txt in texts:\n",
    "    texts_list.append(txt.text)\n",
    "    i += 1\n",
    "    comments_count = len(users_list)\n",
    "#for txt in texts:\n",
    "#    texts_list.append(txt.text.split(users_list[i])[1].replace(\"\\r\",\" \").replace(\"\\n\",\" \"))\n",
    "#    i += 1\n",
    "#   comments_count = len(users_list)\n",
    "    \n",
    "for i in range(1, comments_count):\n",
    "    user = users_list[i]\n",
    "    text = texts_list[i]\n",
    "    comments.append(users_list[i])\n",
    "    comments.append(texts_list[i])\n",
    "    print(\"User \",user)\n",
    "    print(\"Text \",text)\n",
    "    print()\n",
    "    \n",
    "#    idxs = [m.start() for m in re.finditer('@', text)]\n",
    "#    for idx in idxs:\n",
    "#        handle = text[idx:].split(\" \")[0]\n",
    "\n",
    "#print(handle)\n",
    "\n"
   ]
  },
  {
   "cell_type": "code",
   "execution_count": 10,
   "metadata": {},
   "outputs": [
    {
     "data": {
      "text/plain": [
       "['bragaborgessescy',\n",
       " '#islam_is_the_truth',\n",
       " 'nnnhh567',\n",
       " '#islam_is_the_truth',\n",
       " 'nnnhh567',\n",
       " '♥♥♥',\n",
       " 'bbeauty_by_nilaa',\n",
       " '❤️❤️',\n",
       " 'dailydoseoftranquili_tea',\n",
       " 'hola',\n",
       " 'lourdesvelezestrella',\n",
       " '🥰',\n",
       " 'aguirrekalaa',\n",
       " 'This post is everything ❤️',\n",
       " 'natalie6711',\n",
       " 'Kids r adorable',\n",
       " 'marilynmurph101',\n",
       " 'Your the only one posted about rob your my favorite and I know your dad is proud of you ❤️',\n",
       " 'angeladancingqueen',\n",
       " 'Holiss',\n",
       " 'sarahmar_sm',\n",
       " 'https://www.paypal.me/valennn23',\n",
       " 'pu74_qu3_of3rt0n',\n",
       " '❤️❤️',\n",
       " 'ero_curves_girls',\n",
       " '❤️👏🙏',\n",
       " 'jsee09',\n",
       " '@tunisia_bikewander 🚴🚴👏\\nBienvenu 🤗',\n",
       " 'tunisia_bikewander',\n",
       " '@tunisia_bikewander 🚴🚴👏\\nBienvenu 🤗',\n",
       " 'tunisia_bikewander',\n",
       " 'Nice tribute',\n",
       " 'kimbean582',\n",
       " 'Bou wala miboun w rajlek be3thek tnayek chneyaaa amazing chtahchi fih aaa kim',\n",
       " 'dali_hssan',\n",
       " '😍😍😍😍😍🔥👏👏👏❤️❤️',\n",
       " 'mariaacardoso23',\n",
       " 'Felicidades bendiciones',\n",
       " 'marbytobonc',\n",
       " 'Gemeyyyy *bapak2nyaa 😁',\n",
       " 'anggaysti',\n",
       " 'Vgobidio',\n",
       " 'yarzoon',\n",
       " '😢😢😢',\n",
       " 'catalina_722',\n",
       " 'Followtrick',\n",
       " 'bragaborgessescy',\n",
       " '#islam_is_the_truth',\n",
       " 'nnnhh567',\n",
       " '#islam_is_the_truth',\n",
       " 'nnnhh567',\n",
       " '♥♥♥',\n",
       " 'bbeauty_by_nilaa',\n",
       " '❤️❤️',\n",
       " 'dailydoseoftranquili_tea',\n",
       " 'hola',\n",
       " 'lourdesvelezestrella',\n",
       " '🥰',\n",
       " 'aguirrekalaa',\n",
       " 'This post is everything ❤️',\n",
       " 'natalie6711',\n",
       " 'Kids r adorable',\n",
       " 'marilynmurph101',\n",
       " 'Your the only one posted about rob your my favorite and I know your dad is proud of you ❤️',\n",
       " 'angeladancingqueen',\n",
       " 'Holiss',\n",
       " 'sarahmar_sm',\n",
       " 'https://www.paypal.me/valennn23',\n",
       " 'pu74_qu3_of3rt0n',\n",
       " '❤️❤️',\n",
       " 'ero_curves_girls',\n",
       " '❤️👏🙏',\n",
       " 'jsee09',\n",
       " '@tunisia_bikewander 🚴🚴👏\\nBienvenu 🤗',\n",
       " 'tunisia_bikewander',\n",
       " '@tunisia_bikewander 🚴🚴👏\\nBienvenu 🤗',\n",
       " 'tunisia_bikewander',\n",
       " 'Nice tribute',\n",
       " 'kimbean582',\n",
       " 'Bou wala miboun w rajlek be3thek tnayek chneyaaa amazing chtahchi fih aaa kim',\n",
       " 'dali_hssan',\n",
       " '😍😍😍😍😍🔥👏👏👏❤️❤️',\n",
       " 'mariaacardoso23',\n",
       " 'Felicidades bendiciones',\n",
       " 'marbytobonc',\n",
       " 'Gemeyyyy *bapak2nyaa 😁',\n",
       " 'anggaysti',\n",
       " 'Vgobidio',\n",
       " 'yarzoon',\n",
       " '😢😢😢',\n",
       " 'catalina_722',\n",
       " 'Followtrick',\n",
       " 'its_lola.ish',\n",
       " 'bragaborgessescy',\n",
       " 'nnnhh567',\n",
       " 'nnnhh567',\n",
       " 'bbeauty_by_nilaa',\n",
       " 'dailydoseoftranquili_tea',\n",
       " 'lourdesvelezestrella',\n",
       " 'aguirrekalaa',\n",
       " 'natalie6711',\n",
       " 'marilynmurph101',\n",
       " 'angeladancingqueen',\n",
       " 'sarahmar_sm',\n",
       " 'pu74_qu3_of3rt0n',\n",
       " 'ero_curves_girls',\n",
       " 'jsee09',\n",
       " 'tunisia_bikewander',\n",
       " 'tunisia_bikewander',\n",
       " 'kimbean582',\n",
       " 'dali_hssan',\n",
       " 'mariaacardoso23',\n",
       " 'marbytobonc',\n",
       " 'anggaysti',\n",
       " 'yarzoon',\n",
       " 'catalina_722',\n",
       " 'its_lola.ish']"
      ]
     },
     "execution_count": 10,
     "metadata": {},
     "output_type": "execute_result"
    }
   ],
   "source": [
    "comments "
   ]
  },
  {
   "cell_type": "code",
   "execution_count": 11,
   "metadata": {},
   "outputs": [
    {
     "name": "stdout",
     "output_type": "stream",
     "text": [
      "bragaborgessescy #islam_is_the_truth\n",
      "nnnhh567 #islam_is_the_truth\n",
      "nnnhh567 ♥♥♥\n",
      "bbeauty_by_nilaa ❤️❤️\n",
      "dailydoseoftranquili_tea hola\n",
      "lourdesvelezestrella 🥰\n",
      "aguirrekalaa This post is everything ❤️\n",
      "natalie6711 Kids r adorable\n",
      "marilynmurph101 Your the only one posted about rob your my favorite and I know your dad is proud of you ❤️\n",
      "angeladancingqueen Holiss\n",
      "sarahmar_sm https://www.paypal.me/valennn23\n",
      "pu74_qu3_of3rt0n ❤️❤️\n",
      "ero_curves_girls ❤️👏🙏\n",
      "jsee09 @tunisia_bikewander 🚴🚴👏\n",
      "Bienvenu 🤗\n",
      "tunisia_bikewander @tunisia_bikewander 🚴🚴👏\n",
      "Bienvenu 🤗\n",
      "tunisia_bikewander Nice tribute\n",
      "kimbean582 Bou wala miboun w rajlek be3thek tnayek chneyaaa amazing chtahchi fih aaa kim\n",
      "dali_hssan 😍😍😍😍😍🔥👏👏👏❤️❤️\n",
      "mariaacardoso23 Felicidades bendiciones\n",
      "marbytobonc Gemeyyyy *bapak2nyaa 😁\n",
      "anggaysti Vgobidio\n",
      "yarzoon 😢😢😢\n",
      "catalina_722 Followtrick\n",
      "bragaborgessescy #islam_is_the_truth\n",
      "nnnhh567 #islam_is_the_truth\n",
      "nnnhh567 ♥♥♥\n",
      "bbeauty_by_nilaa ❤️❤️\n",
      "dailydoseoftranquili_tea hola\n",
      "lourdesvelezestrella 🥰\n",
      "aguirrekalaa This post is everything ❤️\n",
      "natalie6711 Kids r adorable\n",
      "marilynmurph101 Your the only one posted about rob your my favorite and I know your dad is proud of you ❤️\n",
      "angeladancingqueen Holiss\n",
      "sarahmar_sm https://www.paypal.me/valennn23\n",
      "pu74_qu3_of3rt0n ❤️❤️\n",
      "ero_curves_girls ❤️👏🙏\n",
      "jsee09 @tunisia_bikewander 🚴🚴👏\n",
      "Bienvenu 🤗\n",
      "tunisia_bikewander @tunisia_bikewander 🚴🚴👏\n",
      "Bienvenu 🤗\n",
      "tunisia_bikewander Nice tribute\n",
      "kimbean582 Bou wala miboun w rajlek be3thek tnayek chneyaaa amazing chtahchi fih aaa kim\n",
      "dali_hssan 😍😍😍😍😍🔥👏👏👏❤️❤️\n",
      "mariaacardoso23 Felicidades bendiciones\n",
      "marbytobonc Gemeyyyy *bapak2nyaa 😁\n",
      "anggaysti Vgobidio\n",
      "yarzoon 😢😢😢\n",
      "catalina_722 Followtrick\n",
      "its_lola.ish bragaborgessescy\n",
      "nnnhh567 nnnhh567\n",
      "bbeauty_by_nilaa dailydoseoftranquili_tea\n",
      "lourdesvelezestrella aguirrekalaa\n",
      "natalie6711 marilynmurph101\n",
      "angeladancingqueen sarahmar_sm\n",
      "pu74_qu3_of3rt0n ero_curves_girls\n",
      "jsee09 tunisia_bikewander\n",
      "tunisia_bikewander kimbean582\n",
      "dali_hssan mariaacardoso23\n",
      "marbytobonc anggaysti\n",
      "yarzoon catalina_722\n"
     ]
    }
   ],
   "source": [
    "rows = []\n",
    "for user, text in zip(comments[::2], comments[1::2]):\n",
    "    print(user, text)\n",
    "    rows.append([user, text])"
   ]
  },
  {
   "cell_type": "code",
   "execution_count": 145,
   "metadata": {},
   "outputs": [],
   "source": [
    "fields = [\"User\", \"Text\"]\n",
    "filename = \"bullying_comments7.csv\"\n",
    "with open(filename, 'w',  encoding='utf-8', newline='') as csvfile: \n",
    "    csvwriter = csv.writer(csvfile) \n",
    "    csvwriter.writerow(fields) \n",
    "    csvwriter.writerows(rows) "
   ]
  },
  {
   "cell_type": "code",
   "execution_count": 146,
   "metadata": {},
   "outputs": [],
   "source": [
    "df = pd.read_csv(r\"C:\\Users\\keks1\\bullying_comments7.csv\")"
   ]
  },
  {
   "cell_type": "code",
   "execution_count": 147,
   "metadata": {},
   "outputs": [
    {
     "name": "stdout",
     "output_type": "stream",
     "text": [
      "                     User                                               Text\n",
      "0              adinakalan                                     I love you Kim\n",
      "1          samuelggabriel  Causal nothing, it's called wanting attention,...\n",
      "2             trin_draws_  This women needs mental health this is just wr...\n",
      "3     amor.oosthuizen2004                                                 ❤️\n",
      "4          lesberlinettes                                                😛😜🤓\n",
      "...                   ...                                                ...\n",
      "3435     mariafrancescaa_                           What the heck @savitaaxo\n",
      "3436             afro.boi       Sans commentaire carrement @mariafrancescaa_\n",
      "3437        taina.sherley                                     @_katrinajosie\n",
      "3438           brick.brat                          @unicat19 γουετ εντ ρεντι\n",
      "3439              nasioli  cow tipping? lol the world would be better off...\n",
      "\n",
      "[3440 rows x 2 columns]\n"
     ]
    }
   ],
   "source": [
    "print(df)"
   ]
  }
 ],
 "metadata": {
  "kernelspec": {
   "display_name": "Python 3",
   "language": "python",
   "name": "python3"
  },
  "language_info": {
   "codemirror_mode": {
    "name": "ipython",
    "version": 3
   },
   "file_extension": ".py",
   "mimetype": "text/x-python",
   "name": "python",
   "nbconvert_exporter": "python",
   "pygments_lexer": "ipython3",
   "version": "3.8.5"
  }
 },
 "nbformat": 4,
 "nbformat_minor": 2
}
