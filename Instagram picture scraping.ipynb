{
 "cells": [
  {
   "cell_type": "code",
   "execution_count": 5,
   "metadata": {},
   "outputs": [],
   "source": [
    "from urllib.request import urlopen\n",
    "from urllib.parse import quote_plus\n",
    "from bs4 import BeautifulSoup\n",
    "from selenium import webdriver\n",
    "import time"
   ]
  },
  {
   "cell_type": "code",
   "execution_count": 2,
   "metadata": {},
   "outputs": [
    {
     "name": "stdout",
     "output_type": "stream",
     "text": [
      "Requirement already satisfied: BeautifulSoup4 in c:\\users\\keks1\\anaconda3\\lib\\site-packages (4.8.0)\n",
      "Requirement already satisfied: soupsieve>=1.2 in c:\\users\\keks1\\anaconda3\\lib\\site-packages (from BeautifulSoup4) (1.9.3)\n"
     ]
    }
   ],
   "source": [
    "!pip install BeautifulSoup4"
   ]
  },
  {
   "cell_type": "code",
   "execution_count": 3,
   "metadata": {},
   "outputs": [
    {
     "name": "stdout",
     "output_type": "stream",
     "text": [
      "Collecting selenium\n",
      "  Downloading https://files.pythonhosted.org/packages/80/d6/4294f0b4bce4de0abf13e17190289f9d0613b0a44e5dd6a7f5ca98459853/selenium-3.141.0-py2.py3-none-any.whl (904kB)\n",
      "Requirement already satisfied: urllib3 in c:\\users\\keks1\\anaconda3\\lib\\site-packages (from selenium) (1.24.2)\n",
      "Installing collected packages: selenium\n",
      "Successfully installed selenium-3.141.0\n"
     ]
    }
   ],
   "source": [
    "!pip install selenium"
   ]
  },
  {
   "cell_type": "code",
   "execution_count": 7,
   "metadata": {},
   "outputs": [],
   "source": [
    "driver = webdriver.Chrome('C:\\\\Users\\\\keks1\\\\Desktop\\\\FORFUN\\\\chromedriver.exe')"
   ]
  },
  {
   "cell_type": "code",
   "execution_count": 8,
   "metadata": {},
   "outputs": [],
   "source": [
    "driver.get(\"https://www.instagram.com/accounts/login/\")\n",
    "time.sleep(0.5)"
   ]
  },
  {
   "cell_type": "code",
   "execution_count": 9,
   "metadata": {},
   "outputs": [],
   "source": [
    "username = driver.find_element_by_name(\"username\").send_keys('')\n",
    "password = driver.find_element_by_name(\"password\").send_keys('')"
   ]
  },
  {
   "cell_type": "code",
   "execution_count": 10,
   "metadata": {},
   "outputs": [
    {
     "name": "stdout",
     "output_type": "stream",
     "text": [
      "검색할 태그를 입력하세요 : 아이유\n"
     ]
    }
   ],
   "source": [
    "baseUrl = 'https://www.instagram.com/explore/tags/'\n",
    "plusUrl = input(\"검색할 태그를 입력하세요 : \")"
   ]
  },
  {
   "cell_type": "code",
   "execution_count": 11,
   "metadata": {},
   "outputs": [],
   "source": [
    "url = baseUrl + plusUrl"
   ]
  },
  {
   "cell_type": "code",
   "execution_count": 12,
   "metadata": {},
   "outputs": [
    {
     "name": "stdout",
     "output_type": "stream",
     "text": [
      "https://www.instagram.com/explore/tags/아이유\n"
     ]
    }
   ],
   "source": [
    "print(url)"
   ]
  },
  {
   "cell_type": "code",
   "execution_count": 13,
   "metadata": {},
   "outputs": [],
   "source": [
    "url = baseUrl + quote_plus(plusUrl)"
   ]
  },
  {
   "cell_type": "code",
   "execution_count": 14,
   "metadata": {},
   "outputs": [
    {
     "name": "stdout",
     "output_type": "stream",
     "text": [
      "https://www.instagram.com/explore/tags/%EC%95%84%EC%9D%B4%EC%9C%A0\n"
     ]
    }
   ],
   "source": [
    "print(url)"
   ]
  },
  {
   "cell_type": "code",
   "execution_count": 16,
   "metadata": {},
   "outputs": [],
   "source": [
    "driver.get(url)\n",
    "time.sleep(3)"
   ]
  },
  {
   "cell_type": "code",
   "execution_count": 17,
   "metadata": {},
   "outputs": [],
   "source": [
    "html = driver.page_source\n",
    "soup = BeautifulSoup(html, \"lxml\")"
   ]
  },
  {
   "cell_type": "code",
   "execution_count": 19,
   "metadata": {},
   "outputs": [],
   "source": [
    "insta = soup.select('.v1Nh3.kIKUG._bz0w')"
   ]
  },
  {
   "cell_type": "code",
   "execution_count": 20,
   "metadata": {},
   "outputs": [
    {
     "name": "stdout",
     "output_type": "stream",
     "text": [
      "<div class=\"v1Nh3 kIKUG _bz0w\"><a href=\"/p/B44fe1FJZsw/\"><div class=\"eLAPa\"><div class=\"KL4Bh\"><img alt=\"Image may contain: one or more people and closeup\" class=\"FFVAD\" decoding=\"auto\" sizes=\"152.9375px\" src=\"https://scontent-lht6-1.cdninstagram.com/vp/aba6d90bcfdc7a76546e6048b7de07e8/5E55C960/t51.2885-15/sh0.08/e35/s640x640/73407410_1006442363037193_3475692233464824632_n.jpg?_nc_ht=scontent-lht6-1.cdninstagram.com&amp;_nc_cat=101\" srcset=\"https://scontent-lht6-1.cdninstagram.com/vp/a9ee7be4de0b63b014776320ce5206af/5E56DBE5/t51.2885-15/e35/s150x150/73407410_1006442363037193_3475692233464824632_n.jpg?_nc_ht=scontent-lht6-1.cdninstagram.com&amp;_nc_cat=101 150w,https://scontent-lht6-1.cdninstagram.com/vp/7f578bea904bc952c43368dbfbba71fa/5E672FE3/t51.2885-15/e35/s240x240/73407410_1006442363037193_3475692233464824632_n.jpg?_nc_ht=scontent-lht6-1.cdninstagram.com&amp;_nc_cat=101 240w,https://scontent-lht6-1.cdninstagram.com/vp/03379b3aefdfb18d67ad1b06f7a8d8d5/5E4CBB9D/t51.2885-15/e35/s320x320/73407410_1006442363037193_3475692233464824632_n.jpg?_nc_ht=scontent-lht6-1.cdninstagram.com&amp;_nc_cat=101 320w,https://scontent-lht6-1.cdninstagram.com/vp/8511d01d75b123ab557498cce3bf83ef/5E5515DA/t51.2885-15/e35/s480x480/73407410_1006442363037193_3475692233464824632_n.jpg?_nc_ht=scontent-lht6-1.cdninstagram.com&amp;_nc_cat=101 480w,https://scontent-lht6-1.cdninstagram.com/vp/aba6d90bcfdc7a76546e6048b7de07e8/5E55C960/t51.2885-15/sh0.08/e35/s640x640/73407410_1006442363037193_3475692233464824632_n.jpg?_nc_ht=scontent-lht6-1.cdninstagram.com&amp;_nc_cat=101 640w\" style=\"object-fit: cover;\"/></div><div class=\"_9AhH0\"></div></div><div class=\"u7YqG\"><span aria-label=\"Carousel\" class=\"mediatypesSpriteCarousel__filled__32 u-__7\"></span></div></a></div>\n"
     ]
    }
   ],
   "source": [
    "print(insta[0])"
   ]
  },
  {
   "cell_type": "code",
   "execution_count": 23,
   "metadata": {},
   "outputs": [
    {
     "name": "stdout",
     "output_type": "stream",
     "text": [
      "https//www.instagram.com/p/B44fe1FJZsw/\n",
      "https://scontent-lht6-1.cdninstagram.com/vp/aba6d90bcfdc7a76546e6048b7de07e8/5E55C960/t51.2885-15/sh0.08/e35/s640x640/73407410_1006442363037193_3475692233464824632_n.jpg?_nc_ht=scontent-lht6-1.cdninstagram.com&_nc_cat=101\n",
      "\n",
      "https//www.instagram.com/p/B41a7_PC_Ji/\n",
      "https://scontent-lht6-1.cdninstagram.com/vp/57f84bd3064317ffe7cf46dcdd3d1f10/5E6A7546/t51.2885-15/sh0.08/e35/c0.107.857.857a/s640x640/69888211_128293131921093_1171723872075187221_n.jpg?_nc_ht=scontent-lht6-1.cdninstagram.com&_nc_cat=109\n",
      "\n",
      "https//www.instagram.com/p/B4x8f_dCgP-/\n",
      "https://scontent-lht6-1.cdninstagram.com/vp/e103d91eb7ffdee446f322884be493e1/5E57FD44/t51.2885-15/sh0.08/e35/c240.0.960.960a/s640x640/75484605_413418759607461_7529362302464819749_n.jpg?_nc_ht=scontent-lht6-1.cdninstagram.com&_nc_cat=109\n",
      "\n",
      "https//www.instagram.com/p/B4zHGEPHxh4/\n",
      "https://scontent-lht6-1.cdninstagram.com/vp/04ef3c451400ceaab39e67c45102e9d2/5E6C3ACF/t51.2885-15/sh0.08/e35/c311.0.817.817a/s640x640/72704051_458470561464563_531595201176194279_n.jpg?_nc_ht=scontent-lht6-1.cdninstagram.com&_nc_cat=111\n",
      "\n",
      "https//www.instagram.com/p/B434er4J_xQ/\n",
      "https://scontent-lht6-1.cdninstagram.com/vp/52dd90a620387270aade64c10408d295/5E4EE99F/t51.2885-15/sh0.08/e35/s640x640/72278258_100494424730729_6058832547731689620_n.jpg?_nc_ht=scontent-lht6-1.cdninstagram.com&_nc_cat=105\n",
      "\n",
      "https//www.instagram.com/p/B41ejkMJZZU/\n",
      "https://scontent-lht6-1.cdninstagram.com/vp/489ed6eac894367948bd99c3c089080f/5E8A5B54/t51.2885-15/sh0.08/e35/c0.135.1080.1080a/s640x640/76960481_160733631837982_3405616937837394769_n.jpg?_nc_ht=scontent-lht6-1.cdninstagram.com&_nc_cat=110\n",
      "\n",
      "https//www.instagram.com/p/B41VYnEJpXJ/\n",
      "https://scontent-lht6-1.cdninstagram.com/vp/3477e40ea7fe45d4d5d29b5a21634f3a/5E69A36E/t51.2885-15/sh0.08/e35/c0.105.843.843a/s640x640/75244405_1447980598711014_8470613350665258821_n.jpg?_nc_ht=scontent-lht6-1.cdninstagram.com&_nc_cat=106\n",
      "\n",
      "https//www.instagram.com/p/B44ZjqoJFJ5/\n",
      "https://scontent-lht6-1.cdninstagram.com/vp/8fb8c5bc83e303551c28e53e0faa08dd/5E57ACC5/t51.2885-15/sh0.08/e35/c0.124.998.998a/s640x640/73480775_723540078160751_2018630470625730165_n.jpg?_nc_ht=scontent-lht6-1.cdninstagram.com&_nc_cat=111\n",
      "\n",
      "https//www.instagram.com/p/B4vYYfeIz_0/\n",
      "https://scontent-lht6-1.cdninstagram.com/vp/b57c1b499830374e6853dea8f7fe14c1/5E6AE286/t51.2885-15/e35/c83.0.333.333a/77299807_183777602793517_5165445073370631092_n.jpg?_nc_ht=scontent-lht6-1.cdninstagram.com&_nc_cat=101\n",
      "\n",
      "https//www.instagram.com/p/B45lvvvK_UD/\n",
      "https://scontent-lht6-1.cdninstagram.com/vp/3de608e3e630e4b9bed4e0919dffdff7/5E85927A/t51.2885-15/e35/c111.0.264.264a/73505096_2499481187041312_490340958653895888_n.jpg?_nc_ht=scontent-lht6-1.cdninstagram.com&_nc_cat=104\n",
      "\n",
      "https//www.instagram.com/p/B45isGrJGIo/\n",
      "https://scontent-lht6-1.cdninstagram.com/vp/76b48d34d37b0a6043ffa246aaf592f7/5E4DFC4A/t51.2885-15/sh0.08/e35/c0.92.736.736a/s640x640/73401827_2527873607499401_1899144896336464578_n.jpg?_nc_ht=scontent-lht6-1.cdninstagram.com&_nc_cat=105\n",
      "\n",
      "https//www.instagram.com/p/B45fyXYFWKe/\n",
      "https://scontent-lht6-1.cdninstagram.com/vp/83aa37d25b58226e750b8bade2d8272a/5E65C432/t51.2885-15/sh0.08/e35/c180.0.1080.1080a/s640x640/75472292_785479281873658_3501220599991377052_n.jpg?_nc_ht=scontent-lht6-1.cdninstagram.com&_nc_cat=110\n",
      "\n",
      "https//www.instagram.com/p/B45egR9FtcE/\n",
      "https://scontent-lht6-1.cdninstagram.com/vp/1d6a4f26aafcc18e71f2abe31fc489b6/5E8A5CC5/t51.2885-15/sh0.08/e35/s640x640/73457363_461803591133367_1958155284401331554_n.jpg?_nc_ht=scontent-lht6-1.cdninstagram.com&_nc_cat=103\n",
      "\n",
      "https//www.instagram.com/p/B45eeYNhvq9/\n",
      "https://scontent-lht6-1.cdninstagram.com/vp/22d68769bd0ed0a17b52e52c0d8b3f4e/5DD15449/t51.2885-15/sh0.08/e35/c0.90.720.720a/s640x640/72338865_124626248595256_9013050188483958496_n.jpg?_nc_ht=scontent-lht6-1.cdninstagram.com&_nc_cat=104\n",
      "\n",
      "https//www.instagram.com/p/B45df8nlTTP/\n",
      "https://scontent-lht6-1.cdninstagram.com/vp/2e3aa6d7ccdc936a35a39a4934d82e94/5DD17E3D/t51.2885-15/sh0.08/e35/s640x640/70497628_920717784994953_9009068866814130951_n.jpg?_nc_ht=scontent-lht6-1.cdninstagram.com&_nc_cat=109\n",
      "\n",
      "https//www.instagram.com/p/B45cGOioK4q/\n",
      "https://scontent-lht6-1.cdninstagram.com/vp/8726955a6bc368b4ca06481735eb1d5e/5E6B9466/t51.2885-15/sh0.08/e35/s640x640/75642497_152332036156027_6722031189090661429_n.jpg?_nc_ht=scontent-lht6-1.cdninstagram.com&_nc_cat=107\n",
      "\n",
      "https//www.instagram.com/p/B45b72MgYTn/\n",
      "https://scontent-lht6-1.cdninstagram.com/vp/5c00ca0348cb332b1f1eab8ba77d5ccd/5E8C2B89/t51.2885-15/e35/73168109_2653553401557062_1566458203770579749_n.jpg?_nc_ht=scontent-lht6-1.cdninstagram.com&_nc_cat=102\n",
      "\n",
      "https//www.instagram.com/p/B45bwDnAwGj/\n",
      "https://scontent-lht6-1.cdninstagram.com/vp/9afa2bbdb6b11d7a676b4b7d9b2cda7e/5DD177D1/t51.2885-15/e35/c0.60.480.480a/75408702_1014015195603750_7429940460345486833_n.jpg?_nc_ht=scontent-lht6-1.cdninstagram.com&_nc_cat=106\n",
      "\n",
      "https//www.instagram.com/p/B45bRSrpxxB/\n",
      "https://scontent-lht6-1.cdninstagram.com/vp/6a0f7e6de08cdd2e3c89b4b0f370a42a/5DD18840/t51.2885-15/sh0.08/e35/c5.0.710.710a/s640x640/74346205_634484397088783_2636068741335654888_n.jpg?_nc_ht=scontent-lht6-1.cdninstagram.com&_nc_cat=107\n",
      "\n",
      "https//www.instagram.com/p/B45bQXvAQWq/\n",
      "https://scontent-lht6-1.cdninstagram.com/vp/57934fe75bc215dae58e23fb6598d69c/5E556F26/t51.2885-15/sh0.08/e35/s640x640/76735683_475463759991416_7414129066378552607_n.jpg?_nc_ht=scontent-lht6-1.cdninstagram.com&_nc_cat=108\n",
      "\n",
      "https//www.instagram.com/p/B45ZBt4pWN0/\n",
      "https://scontent-lht6-1.cdninstagram.com/vp/7669a2967bacf5c9b552752dcdd3b145/5DD1BDA2/t51.2885-15/sh0.08/e35/s640x640/74610677_2257692374521693_9162709409791595401_n.jpg?_nc_ht=scontent-lht6-1.cdninstagram.com&_nc_cat=101\n",
      "\n",
      "https//www.instagram.com/p/B45YEmNhF-9/\n",
      "https://scontent-lht6-1.cdninstagram.com/vp/c23df4947eb2b8c36fad122c0dab3705/5DD15ECE/t51.2885-15/sh0.08/e35/s640x640/74956469_1012035335799385_4361643667471299437_n.jpg?_nc_ht=scontent-lht6-1.cdninstagram.com&_nc_cat=101\n",
      "\n",
      "https//www.instagram.com/p/B45XXLcBOCo/\n",
      "https://scontent-lht6-1.cdninstagram.com/vp/9a67f29f4c99c9a21e2d4556b0aa1b7c/5E54D90F/t51.2885-15/sh0.08/e35/s640x640/73497458_2828375927195216_1085823591819760145_n.jpg?_nc_ht=scontent-lht6-1.cdninstagram.com&_nc_cat=108\n",
      "\n",
      "https//www.instagram.com/p/B45XHwvpui-/\n",
      "https://scontent-lht6-1.cdninstagram.com/vp/49854f7b15788a9cd030e26863dc340d/5E574961/t51.2885-15/sh0.08/e35/s640x640/73685218_586490652157948_7250378076880159339_n.jpg?_nc_ht=scontent-lht6-1.cdninstagram.com&_nc_cat=104\n",
      "\n",
      "https//www.instagram.com/p/B45V73UqRlb/\n",
      "https://scontent-lht6-1.cdninstagram.com/vp/3d5549d87bc080998c57cdde9a58480f/5E8919C8/t51.2885-15/sh0.08/e35/s640x640/73321242_525264168051963_5369746631571782062_n.jpg?_nc_ht=scontent-lht6-1.cdninstagram.com&_nc_cat=103\n",
      "\n",
      "https//www.instagram.com/p/B45VQLAJF5o/\n",
      "https://scontent-lht6-1.cdninstagram.com/vp/98551a0c528e8b736dd37933f319ab2d/5E6C3B93/t51.2885-15/sh0.08/e35/s640x640/73011848_671839923224257_1805447312573700648_n.jpg?_nc_ht=scontent-lht6-1.cdninstagram.com&_nc_cat=101\n",
      "\n",
      "https//www.instagram.com/p/B45UFcVAXPN/\n",
      "https://scontent-lht6-1.cdninstagram.com/vp/85950f7600f71760129668f62d3ff8c4/5E68ABBF/t51.2885-15/sh0.08/e35/s640x640/73401903_732961750540149_1797543498238168793_n.jpg?_nc_ht=scontent-lht6-1.cdninstagram.com&_nc_cat=109\n",
      "\n",
      "https//www.instagram.com/p/B45TFGaJIqK/\n",
      "https://scontent-lht6-1.cdninstagram.com/vp/65dbdbc418fa255c7e047d339cd42264/5DD1CEC3/t51.2885-15/sh0.08/e35/s640x640/73013602_251477275826329_3823252511326689425_n.jpg?_nc_ht=scontent-lht6-1.cdninstagram.com&_nc_cat=101\n",
      "\n",
      "https//www.instagram.com/p/B45TK97p89d/\n",
      "https://scontent-lht6-1.cdninstagram.com/vp/fae3da855037cc0e42e2df8e801d8603/5E67970B/t51.2885-15/e35/c51.0.489.489a/73040687_417500915571723_8346814018177814347_n.jpg?_nc_ht=scontent-lht6-1.cdninstagram.com&_nc_cat=1\n",
      "\n",
      "https//www.instagram.com/p/B45S_7Sp2lo/\n",
      "https://scontent-lht6-1.cdninstagram.com/vp/5ef81c0e6d86fe3a52c02f6e6074eef2/5E8979B8/t51.2885-15/sh0.08/e35/s640x640/74601587_420340958574524_4564442654005722192_n.jpg?_nc_ht=scontent-lht6-1.cdninstagram.com&_nc_cat=108\n",
      "\n",
      "https//www.instagram.com/p/B45SjEdJHBy/\n",
      "https://scontent-lht6-1.cdninstagram.com/vp/4ff85672b62f3223d03012a7bf18fd58/5E8885AC/t51.2885-15/e35/c103.0.420.420a/76878714_714514575703625_1065255525972681544_n.jpg?_nc_ht=scontent-lht6-1.cdninstagram.com&_nc_cat=105\n",
      "\n",
      "https//www.instagram.com/p/B45R9n1J7jx/\n"
     ]
    },
    {
     "name": "stdout",
     "output_type": "stream",
     "text": [
      "https://scontent-lht6-1.cdninstagram.com/vp/3dc4f2e6c34e4fc829825f8a0c966b05/5E86702B/t51.2885-15/sh0.08/e35/c0.180.1440.1440a/s640x640/71594949_2525213120896577_1129248646286324427_n.jpg?_nc_ht=scontent-lht6-1.cdninstagram.com&_nc_cat=105\n",
      "\n",
      "https//www.instagram.com/p/B45RzIwp7gE/\n",
      "https://scontent-lht6-1.cdninstagram.com/vp/c6a2fb93dcf04f9ba5b83e5c2ffd24c9/5E4EB7B4/t51.2885-15/sh0.08/e35/c0.135.1080.1080a/s640x640/72336322_437612667152444_1751695540421889393_n.jpg?_nc_ht=scontent-lht6-1.cdninstagram.com&_nc_cat=108\n",
      "\n",
      "https//www.instagram.com/p/B45RwtiJUg9/\n",
      "https://scontent-lht6-1.cdninstagram.com/vp/997d0f32381613bdea2c42e2d9eecc26/5E5609A2/t51.2885-15/sh0.08/e35/c0.135.1080.1080a/s640x640/74965065_555852461844719_5174869297483655775_n.jpg?_nc_ht=scontent-lht6-1.cdninstagram.com&_nc_cat=111\n",
      "\n",
      "https//www.instagram.com/p/B45P-tEh4f9/\n",
      "https://scontent-lht6-1.cdninstagram.com/vp/0e00a5260f3ed7553d8df5b82f3a99ea/5DD172C9/t51.2885-15/e35/c157.0.405.405a/73316814_214207879575147_6651927957556086642_n.jpg?_nc_ht=scontent-lht6-1.cdninstagram.com&_nc_cat=103\n",
      "\n",
      "https//www.instagram.com/p/B45QxaZnytL/\n",
      "https://scontent-lht6-1.cdninstagram.com/vp/d908f51643207d665b3346d6d1177f67/5DD14409/t51.2885-15/sh0.08/e35/s640x640/74360755_980683475611938_2841248020846197206_n.jpg?_nc_ht=scontent-lht6-1.cdninstagram.com&_nc_cat=106\n",
      "\n",
      "https//www.instagram.com/p/B45Q5QnJAJ4/\n",
      "https://scontent-lht6-1.cdninstagram.com/vp/f63f4a4868f5011caf438df598dcbbe3/5DD167FB/t51.2885-15/sh0.08/e35/s640x640/74892114_208213836844664_3944179904633545392_n.jpg?_nc_ht=scontent-lht6-1.cdninstagram.com&_nc_cat=108\n",
      "\n",
      "https//www.instagram.com/p/B45QivxFoxi/\n",
      "https://scontent-lht6-1.cdninstagram.com/vp/2a25fb88a99dc31ca2e31928c2d7bc10/5DD1D0AA/t51.2885-15/sh0.08/e35/c0.90.720.720a/s640x640/74670579_561192464667144_313358052015257754_n.jpg?_nc_ht=scontent-lht6-1.cdninstagram.com&_nc_cat=100\n",
      "\n",
      "https//www.instagram.com/p/B45QSmfBe7p/\n",
      "https://scontent-lht6-1.cdninstagram.com/vp/d9c13be79608c25cf2150ca4dc228703/5E46F5CE/t51.2885-15/sh0.08/e35/c0.90.720.720a/s640x640/72331756_527955214726361_2528557040425041727_n.jpg?_nc_ht=scontent-lht6-1.cdninstagram.com&_nc_cat=105\n",
      "\n",
      "https//www.instagram.com/p/B45PhPclUij/\n",
      "https://scontent-lht6-1.cdninstagram.com/vp/06b4caff2843ee5b7d0b827b1f6ed69f/5E5D8145/t51.2885-15/sh0.08/e35/s640x640/71837130_430452071224470_5835725583925658449_n.jpg?_nc_ht=scontent-lht6-1.cdninstagram.com&_nc_cat=106\n",
      "\n",
      "https//www.instagram.com/p/B45O_NVJHC7/\n",
      "https://scontent-lht6-1.cdninstagram.com/vp/25c89501b94201667fc47cb4c0fe34d9/5DD1598D/t51.2885-15/sh0.08/e35/s640x640/73414102_403863917183862_9163702625788466646_n.jpg?_nc_ht=scontent-lht6-1.cdninstagram.com&_nc_cat=106\n",
      "\n",
      "https//www.instagram.com/p/B45OIkQJGCO/\n",
      "https://scontent-lht6-1.cdninstagram.com/vp/b3cab03d83c0918fe0cb75a5e42be98f/5DD13C6F/t51.2885-15/sh0.08/e35/s640x640/75595188_438211753551956_3762580948726573187_n.jpg?_nc_ht=scontent-lht6-1.cdninstagram.com&_nc_cat=108\n",
      "\n",
      "https//www.instagram.com/p/B45OFmOJkt0/\n",
      "https://scontent-lht6-1.cdninstagram.com/vp/63bd0d32b61dbfe0bf0bbb0d9de96f59/5DD1C2AE/t51.2885-15/sh0.08/e35/c0.90.720.720a/s640x640/72344087_200855907593494_5880808970204630661_n.jpg?_nc_ht=scontent-lht6-1.cdninstagram.com&_nc_cat=110\n",
      "\n",
      "https//www.instagram.com/p/B45NNfdFkHw/\n",
      "https://scontent-lht6-1.cdninstagram.com/vp/0f5283277de61d9dca2e7d81feee4eb4/5DD187F8/t51.2885-15/e35/c157.0.405.405a/73414120_2174686582830365_3412624015688509318_n.jpg?_nc_ht=scontent-lht6-1.cdninstagram.com&_nc_cat=105\n",
      "\n",
      "https//www.instagram.com/p/B45M2qjJnHF/\n",
      "https://scontent-lht6-1.cdninstagram.com/vp/f7af38c9809ba45ab6e6313d3d5233ad/5DD1BF05/t51.2885-15/e35/c0.80.640.640a/76845768_151823286191284_7204660446889869142_n.jpg?_nc_ht=scontent-lht6-1.cdninstagram.com&_nc_cat=104\n",
      "\n",
      "https//www.instagram.com/p/B45MnCEJ1JM/\n",
      "https://scontent-lht6-1.cdninstagram.com/vp/f5e9f724f424ea4bf8bb3ef14b1d195e/5DD17474/t51.2885-15/sh0.08/e35/s640x640/74611121_425009351530187_6648660018783508256_n.jpg?_nc_ht=scontent-lht6-1.cdninstagram.com&_nc_cat=111\n",
      "\n",
      "https//www.instagram.com/p/B45LkL_JEMp/\n",
      "https://scontent-lht6-1.cdninstagram.com/vp/3dc30d3e811640dbebf0e92e4f69e3bf/5E5C0B4B/t51.2885-15/sh0.08/e35/c0.179.1440.1440a/s640x640/73456023_185266945984407_8824878868980416716_n.jpg?_nc_ht=scontent-lht6-1.cdninstagram.com&_nc_cat=103\n",
      "\n",
      "https//www.instagram.com/p/B45JjcXp6Lo/\n",
      "https://scontent-lht6-1.cdninstagram.com/vp/6353489f45b77641081f01d7dda3ea3e/5E8C9064/t51.2885-15/sh0.08/e35/s640x640/73185596_2378711292256772_1828508713403043385_n.jpg?_nc_ht=scontent-lht6-1.cdninstagram.com&_nc_cat=108\n",
      "\n"
     ]
    }
   ],
   "source": [
    "n = 1\n",
    "for i in insta:\n",
    "    print(\"https//www.instagram.com\" + i.a['href'])\n",
    "    imgUrl = i.select_one('.KL4Bh').img['src']\n",
    "    with urlopen(imgUrl) as f:\n",
    "        with open(r'C:\\Users\\keks1\\Desktop\\FORFUN\\img' +plusUrl + str(n) + '.jpg', 'wb') as h:\n",
    "            img = f.read()\n",
    "            h.write(img)\n",
    "    n += 1\n",
    "    print(imgUrl)\n",
    "    print()"
   ]
  },
  {
   "cell_type": "code",
   "execution_count": null,
   "metadata": {},
   "outputs": [],
   "source": []
  }
 ],
 "metadata": {
  "kernelspec": {
   "display_name": "Python 3",
   "language": "python",
   "name": "python3"
  },
  "language_info": {
   "codemirror_mode": {
    "name": "ipython",
    "version": 3
   },
   "file_extension": ".py",
   "mimetype": "text/x-python",
   "name": "python",
   "nbconvert_exporter": "python",
   "pygments_lexer": "ipython3",
   "version": "3.7.4"
  }
 },
 "nbformat": 4,
 "nbformat_minor": 2
}
